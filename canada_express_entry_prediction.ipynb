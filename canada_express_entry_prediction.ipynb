{
 "cells": [
  {
   "cell_type": "code",
   "execution_count": 2,
   "metadata": {
    "_uuid": "b192e9edac743ae5dc44fce2aed3b64b148e3653"
   },
   "outputs": [],
   "source": [
    "import pandas as pd\n",
    "import matplotlib.pyplot as plt\n",
    "import matplotlib.mlab as mlab\n",
    "import numpy as np\n",
    "import scipy.stats\n",
    "import datetime\n",
    "%matplotlib inline"
   ]
  },
  {
   "cell_type": "markdown",
   "metadata": {
    "_uuid": "4a762e478f40a0f7af2546e384b658abeebc8077"
   },
   "source": [
    "# Data"
   ]
  },
  {
   "cell_type": "code",
   "execution_count": 28,
   "metadata": {
    "_uuid": "16a152adf907eab46d6d24cb3fb13088b0a75f39"
   },
   "outputs": [
    {
     "data": {
      "text/html": [
       "<div>\n",
       "<style scoped>\n",
       "    .dataframe tbody tr th:only-of-type {\n",
       "        vertical-align: middle;\n",
       "    }\n",
       "\n",
       "    .dataframe tbody tr th {\n",
       "        vertical-align: top;\n",
       "    }\n",
       "\n",
       "    .dataframe thead th {\n",
       "        text-align: right;\n",
       "    }\n",
       "</style>\n",
       "<table border=\"1\" class=\"dataframe\">\n",
       "  <thead>\n",
       "    <tr style=\"text-align: right;\">\n",
       "      <th></th>\n",
       "      <th>Unnamed: 0</th>\n",
       "      <th>Date</th>\n",
       "      <th>Invitations issued</th>\n",
       "      <th>CRS score of lowest-ranked candidate invited</th>\n",
       "      <th>Programs covered</th>\n",
       "      <th>Province</th>\n",
       "      <th>Latitude</th>\n",
       "      <th>Longitude</th>\n",
       "    </tr>\n",
       "  </thead>\n",
       "  <tbody>\n",
       "    <tr>\n",
       "      <th>0</th>\n",
       "      <td>0</td>\n",
       "      <td>20-Jan-22</td>\n",
       "      <td>374.0</td>\n",
       "      <td>741</td>\n",
       "      <td>Provincial Nominee Class</td>\n",
       "      <td>Nova Scotia</td>\n",
       "      <td>45.000000</td>\n",
       "      <td>-63.000000</td>\n",
       "    </tr>\n",
       "    <tr>\n",
       "      <th>1</th>\n",
       "      <td>1</td>\n",
       "      <td>07-Jan-22</td>\n",
       "      <td>4750.0</td>\n",
       "      <td>461</td>\n",
       "      <td>Canadian Experience Class</td>\n",
       "      <td>Alberta</td>\n",
       "      <td>55.000000</td>\n",
       "      <td>-115.000000</td>\n",
       "    </tr>\n",
       "    <tr>\n",
       "      <th>2</th>\n",
       "      <td>2</td>\n",
       "      <td>06-Jan-22</td>\n",
       "      <td>250.0</td>\n",
       "      <td>813</td>\n",
       "      <td>Provincial Nominee Program</td>\n",
       "      <td>Saskatchewan</td>\n",
       "      <td>55.000000</td>\n",
       "      <td>-106.000000</td>\n",
       "    </tr>\n",
       "    <tr>\n",
       "      <th>3</th>\n",
       "      <td>3</td>\n",
       "      <td>23-Dec-21</td>\n",
       "      <td>5000.0</td>\n",
       "      <td>468</td>\n",
       "      <td>Federal Skilled Worker Program</td>\n",
       "      <td>Ontario</td>\n",
       "      <td>50.000000</td>\n",
       "      <td>-85.000000</td>\n",
       "    </tr>\n",
       "    <tr>\n",
       "      <th>4</th>\n",
       "      <td>4</td>\n",
       "      <td>09-Dec-21</td>\n",
       "      <td>5000.0</td>\n",
       "      <td>469</td>\n",
       "      <td>Federal Skilled Worker Program</td>\n",
       "      <td>Saskatchewan</td>\n",
       "      <td>55.000000</td>\n",
       "      <td>-106.000000</td>\n",
       "    </tr>\n",
       "    <tr>\n",
       "      <th>...</th>\n",
       "      <td>...</td>\n",
       "      <td>...</td>\n",
       "      <td>...</td>\n",
       "      <td>...</td>\n",
       "      <td>...</td>\n",
       "      <td>...</td>\n",
       "      <td>...</td>\n",
       "      <td>...</td>\n",
       "    </tr>\n",
       "    <tr>\n",
       "      <th>169</th>\n",
       "      <td>169</td>\n",
       "      <td>20-Mar-15</td>\n",
       "      <td>1620.0</td>\n",
       "      <td>481</td>\n",
       "      <td>Federal Skilled Worker Program</td>\n",
       "      <td>British Columbia</td>\n",
       "      <td>53.726669</td>\n",
       "      <td>-127.647621</td>\n",
       "    </tr>\n",
       "    <tr>\n",
       "      <th>170</th>\n",
       "      <td>170</td>\n",
       "      <td>27-Feb-15</td>\n",
       "      <td>1187.0</td>\n",
       "      <td>735</td>\n",
       "      <td>Federal Skilled Worker Program</td>\n",
       "      <td>Prince Edward Island</td>\n",
       "      <td>46.250000</td>\n",
       "      <td>-63.000000</td>\n",
       "    </tr>\n",
       "    <tr>\n",
       "      <th>171</th>\n",
       "      <td>171</td>\n",
       "      <td>20-Feb-15</td>\n",
       "      <td>849.0</td>\n",
       "      <td>808</td>\n",
       "      <td>Canadian Experience Class</td>\n",
       "      <td>Alberta</td>\n",
       "      <td>55.000000</td>\n",
       "      <td>-115.000000</td>\n",
       "    </tr>\n",
       "    <tr>\n",
       "      <th>172</th>\n",
       "      <td>172</td>\n",
       "      <td>07-Feb-15</td>\n",
       "      <td>779.0</td>\n",
       "      <td>818</td>\n",
       "      <td>Federal Skilled Worker Program</td>\n",
       "      <td>British Columbia</td>\n",
       "      <td>53.726669</td>\n",
       "      <td>-127.647621</td>\n",
       "    </tr>\n",
       "    <tr>\n",
       "      <th>173</th>\n",
       "      <td>173</td>\n",
       "      <td>31-Jan-15</td>\n",
       "      <td>779.0</td>\n",
       "      <td>886</td>\n",
       "      <td>Federal Skilled Worker Program</td>\n",
       "      <td>Nova Scotia</td>\n",
       "      <td>45.000000</td>\n",
       "      <td>-63.000000</td>\n",
       "    </tr>\n",
       "  </tbody>\n",
       "</table>\n",
       "<p>174 rows × 8 columns</p>\n",
       "</div>"
      ],
      "text/plain": [
       "     Unnamed: 0       Date  Invitations issued  \\\n",
       "0             0  20-Jan-22               374.0   \n",
       "1             1  07-Jan-22              4750.0   \n",
       "2             2  06-Jan-22               250.0   \n",
       "3             3  23-Dec-21              5000.0   \n",
       "4             4  09-Dec-21              5000.0   \n",
       "..          ...        ...                 ...   \n",
       "169         169  20-Mar-15              1620.0   \n",
       "170         170  27-Feb-15              1187.0   \n",
       "171         171  20-Feb-15               849.0   \n",
       "172         172  07-Feb-15               779.0   \n",
       "173         173  31-Jan-15               779.0   \n",
       "\n",
       "     CRS score of lowest-ranked candidate invited  \\\n",
       "0                                             741   \n",
       "1                                             461   \n",
       "2                                             813   \n",
       "3                                             468   \n",
       "4                                             469   \n",
       "..                                            ...   \n",
       "169                                           481   \n",
       "170                                           735   \n",
       "171                                           808   \n",
       "172                                           818   \n",
       "173                                           886   \n",
       "\n",
       "                   Programs covered              Province   Latitude  \\\n",
       "0          Provincial Nominee Class           Nova Scotia  45.000000   \n",
       "1         Canadian Experience Class               Alberta  55.000000   \n",
       "2        Provincial Nominee Program          Saskatchewan  55.000000   \n",
       "3    Federal Skilled Worker Program               Ontario  50.000000   \n",
       "4    Federal Skilled Worker Program          Saskatchewan  55.000000   \n",
       "..                              ...                   ...        ...   \n",
       "169  Federal Skilled Worker Program      British Columbia  53.726669   \n",
       "170  Federal Skilled Worker Program  Prince Edward Island  46.250000   \n",
       "171       Canadian Experience Class               Alberta  55.000000   \n",
       "172  Federal Skilled Worker Program      British Columbia  53.726669   \n",
       "173  Federal Skilled Worker Program           Nova Scotia  45.000000   \n",
       "\n",
       "      Longitude  \n",
       "0    -63.000000  \n",
       "1   -115.000000  \n",
       "2   -106.000000  \n",
       "3    -85.000000  \n",
       "4   -106.000000  \n",
       "..          ...  \n",
       "169 -127.647621  \n",
       "170  -63.000000  \n",
       "171 -115.000000  \n",
       "172 -127.647621  \n",
       "173  -63.000000  \n",
       "\n",
       "[174 rows x 8 columns]"
      ]
     },
     "execution_count": 28,
     "metadata": {},
     "output_type": "execute_result"
    }
   ],
   "source": [
    "df = pd.read_csv('dataset/expressEntryData.csv')\n",
    "df"
   ]
  },
  {
   "cell_type": "code",
   "execution_count": 29,
   "metadata": {},
   "outputs": [
    {
     "data": {
      "text/html": [
       "<div>\n",
       "<style scoped>\n",
       "    .dataframe tbody tr th:only-of-type {\n",
       "        vertical-align: middle;\n",
       "    }\n",
       "\n",
       "    .dataframe tbody tr th {\n",
       "        vertical-align: top;\n",
       "    }\n",
       "\n",
       "    .dataframe thead th {\n",
       "        text-align: right;\n",
       "    }\n",
       "</style>\n",
       "<table border=\"1\" class=\"dataframe\">\n",
       "  <thead>\n",
       "    <tr style=\"text-align: right;\">\n",
       "      <th></th>\n",
       "      <th>Date</th>\n",
       "      <th>Invitations issued</th>\n",
       "      <th>CRS score of lowest-ranked candidate invited</th>\n",
       "      <th>Programs covered</th>\n",
       "      <th>Province</th>\n",
       "      <th>Latitude</th>\n",
       "      <th>Longitude</th>\n",
       "    </tr>\n",
       "  </thead>\n",
       "  <tbody>\n",
       "    <tr>\n",
       "      <th>0</th>\n",
       "      <td>20-Jan-22</td>\n",
       "      <td>374.0</td>\n",
       "      <td>741</td>\n",
       "      <td>Provincial Nominee Class</td>\n",
       "      <td>Nova Scotia</td>\n",
       "      <td>45.000000</td>\n",
       "      <td>-63.000000</td>\n",
       "    </tr>\n",
       "    <tr>\n",
       "      <th>1</th>\n",
       "      <td>07-Jan-22</td>\n",
       "      <td>4750.0</td>\n",
       "      <td>461</td>\n",
       "      <td>Canadian Experience Class</td>\n",
       "      <td>Alberta</td>\n",
       "      <td>55.000000</td>\n",
       "      <td>-115.000000</td>\n",
       "    </tr>\n",
       "    <tr>\n",
       "      <th>2</th>\n",
       "      <td>06-Jan-22</td>\n",
       "      <td>250.0</td>\n",
       "      <td>813</td>\n",
       "      <td>Provincial Nominee Program</td>\n",
       "      <td>Saskatchewan</td>\n",
       "      <td>55.000000</td>\n",
       "      <td>-106.000000</td>\n",
       "    </tr>\n",
       "    <tr>\n",
       "      <th>3</th>\n",
       "      <td>23-Dec-21</td>\n",
       "      <td>5000.0</td>\n",
       "      <td>468</td>\n",
       "      <td>Federal Skilled Worker Program</td>\n",
       "      <td>Ontario</td>\n",
       "      <td>50.000000</td>\n",
       "      <td>-85.000000</td>\n",
       "    </tr>\n",
       "    <tr>\n",
       "      <th>4</th>\n",
       "      <td>09-Dec-21</td>\n",
       "      <td>5000.0</td>\n",
       "      <td>469</td>\n",
       "      <td>Federal Skilled Worker Program</td>\n",
       "      <td>Saskatchewan</td>\n",
       "      <td>55.000000</td>\n",
       "      <td>-106.000000</td>\n",
       "    </tr>\n",
       "    <tr>\n",
       "      <th>...</th>\n",
       "      <td>...</td>\n",
       "      <td>...</td>\n",
       "      <td>...</td>\n",
       "      <td>...</td>\n",
       "      <td>...</td>\n",
       "      <td>...</td>\n",
       "      <td>...</td>\n",
       "    </tr>\n",
       "    <tr>\n",
       "      <th>169</th>\n",
       "      <td>20-Mar-15</td>\n",
       "      <td>1620.0</td>\n",
       "      <td>481</td>\n",
       "      <td>Federal Skilled Worker Program</td>\n",
       "      <td>British Columbia</td>\n",
       "      <td>53.726669</td>\n",
       "      <td>-127.647621</td>\n",
       "    </tr>\n",
       "    <tr>\n",
       "      <th>170</th>\n",
       "      <td>27-Feb-15</td>\n",
       "      <td>1187.0</td>\n",
       "      <td>735</td>\n",
       "      <td>Federal Skilled Worker Program</td>\n",
       "      <td>Prince Edward Island</td>\n",
       "      <td>46.250000</td>\n",
       "      <td>-63.000000</td>\n",
       "    </tr>\n",
       "    <tr>\n",
       "      <th>171</th>\n",
       "      <td>20-Feb-15</td>\n",
       "      <td>849.0</td>\n",
       "      <td>808</td>\n",
       "      <td>Canadian Experience Class</td>\n",
       "      <td>Alberta</td>\n",
       "      <td>55.000000</td>\n",
       "      <td>-115.000000</td>\n",
       "    </tr>\n",
       "    <tr>\n",
       "      <th>172</th>\n",
       "      <td>07-Feb-15</td>\n",
       "      <td>779.0</td>\n",
       "      <td>818</td>\n",
       "      <td>Federal Skilled Worker Program</td>\n",
       "      <td>British Columbia</td>\n",
       "      <td>53.726669</td>\n",
       "      <td>-127.647621</td>\n",
       "    </tr>\n",
       "    <tr>\n",
       "      <th>173</th>\n",
       "      <td>31-Jan-15</td>\n",
       "      <td>779.0</td>\n",
       "      <td>886</td>\n",
       "      <td>Federal Skilled Worker Program</td>\n",
       "      <td>Nova Scotia</td>\n",
       "      <td>45.000000</td>\n",
       "      <td>-63.000000</td>\n",
       "    </tr>\n",
       "  </tbody>\n",
       "</table>\n",
       "<p>174 rows × 7 columns</p>\n",
       "</div>"
      ],
      "text/plain": [
       "          Date  Invitations issued  \\\n",
       "0    20-Jan-22               374.0   \n",
       "1    07-Jan-22              4750.0   \n",
       "2    06-Jan-22               250.0   \n",
       "3    23-Dec-21              5000.0   \n",
       "4    09-Dec-21              5000.0   \n",
       "..         ...                 ...   \n",
       "169  20-Mar-15              1620.0   \n",
       "170  27-Feb-15              1187.0   \n",
       "171  20-Feb-15               849.0   \n",
       "172  07-Feb-15               779.0   \n",
       "173  31-Jan-15               779.0   \n",
       "\n",
       "     CRS score of lowest-ranked candidate invited  \\\n",
       "0                                             741   \n",
       "1                                             461   \n",
       "2                                             813   \n",
       "3                                             468   \n",
       "4                                             469   \n",
       "..                                            ...   \n",
       "169                                           481   \n",
       "170                                           735   \n",
       "171                                           808   \n",
       "172                                           818   \n",
       "173                                           886   \n",
       "\n",
       "                   Programs covered              Province   Latitude  \\\n",
       "0          Provincial Nominee Class           Nova Scotia  45.000000   \n",
       "1         Canadian Experience Class               Alberta  55.000000   \n",
       "2        Provincial Nominee Program          Saskatchewan  55.000000   \n",
       "3    Federal Skilled Worker Program               Ontario  50.000000   \n",
       "4    Federal Skilled Worker Program          Saskatchewan  55.000000   \n",
       "..                              ...                   ...        ...   \n",
       "169  Federal Skilled Worker Program      British Columbia  53.726669   \n",
       "170  Federal Skilled Worker Program  Prince Edward Island  46.250000   \n",
       "171       Canadian Experience Class               Alberta  55.000000   \n",
       "172  Federal Skilled Worker Program      British Columbia  53.726669   \n",
       "173  Federal Skilled Worker Program           Nova Scotia  45.000000   \n",
       "\n",
       "      Longitude  \n",
       "0    -63.000000  \n",
       "1   -115.000000  \n",
       "2   -106.000000  \n",
       "3    -85.000000  \n",
       "4   -106.000000  \n",
       "..          ...  \n",
       "169 -127.647621  \n",
       "170  -63.000000  \n",
       "171 -115.000000  \n",
       "172 -127.647621  \n",
       "173  -63.000000  \n",
       "\n",
       "[174 rows x 7 columns]"
      ]
     },
     "execution_count": 29,
     "metadata": {},
     "output_type": "execute_result"
    }
   ],
   "source": [
    "df=df.iloc[:,1:]\n",
    "df"
   ]
  },
  {
   "cell_type": "code",
   "execution_count": 30,
   "metadata": {},
   "outputs": [
    {
     "name": "stdout",
     "output_type": "stream",
     "text": [
      "<class 'pandas.core.frame.DataFrame'>\n",
      "RangeIndex: 174 entries, 0 to 173\n",
      "Data columns (total 7 columns):\n",
      " #   Column                                        Non-Null Count  Dtype  \n",
      "---  ------                                        --------------  -----  \n",
      " 0   Date                                          174 non-null    object \n",
      " 1   Invitations issued                            167 non-null    float64\n",
      " 2   CRS score of lowest-ranked candidate invited  174 non-null    int64  \n",
      " 3   Programs covered                              174 non-null    object \n",
      " 4   Province                                      174 non-null    object \n",
      " 5   Latitude                                      174 non-null    float64\n",
      " 6   Longitude                                     174 non-null    float64\n",
      "dtypes: float64(3), int64(1), object(3)\n",
      "memory usage: 9.6+ KB\n"
     ]
    }
   ],
   "source": [
    "df.info()"
   ]
  },
  {
   "cell_type": "code",
   "execution_count": 31,
   "metadata": {},
   "outputs": [
    {
     "data": {
      "text/html": [
       "<div>\n",
       "<style scoped>\n",
       "    .dataframe tbody tr th:only-of-type {\n",
       "        vertical-align: middle;\n",
       "    }\n",
       "\n",
       "    .dataframe tbody tr th {\n",
       "        vertical-align: top;\n",
       "    }\n",
       "\n",
       "    .dataframe thead th {\n",
       "        text-align: right;\n",
       "    }\n",
       "</style>\n",
       "<table border=\"1\" class=\"dataframe\">\n",
       "  <thead>\n",
       "    <tr style=\"text-align: right;\">\n",
       "      <th></th>\n",
       "      <th>Invitations issued</th>\n",
       "      <th>CRS score of lowest-ranked candidate invited</th>\n",
       "      <th>Latitude</th>\n",
       "      <th>Longitude</th>\n",
       "    </tr>\n",
       "  </thead>\n",
       "  <tbody>\n",
       "    <tr>\n",
       "      <th>count</th>\n",
       "      <td>167.000000</td>\n",
       "      <td>174.000000</td>\n",
       "      <td>174.000000</td>\n",
       "      <td>174.000000</td>\n",
       "    </tr>\n",
       "    <tr>\n",
       "      <th>mean</th>\n",
       "      <td>2490.395210</td>\n",
       "      <td>488.350575</td>\n",
       "      <td>51.731297</td>\n",
       "      <td>-94.072790</td>\n",
       "    </tr>\n",
       "    <tr>\n",
       "      <th>std</th>\n",
       "      <td>1386.947354</td>\n",
       "      <td>110.234579</td>\n",
       "      <td>4.043197</td>\n",
       "      <td>21.733745</td>\n",
       "    </tr>\n",
       "    <tr>\n",
       "      <th>min</th>\n",
       "      <td>118.000000</td>\n",
       "      <td>199.000000</td>\n",
       "      <td>45.000000</td>\n",
       "      <td>-127.647621</td>\n",
       "    </tr>\n",
       "    <tr>\n",
       "      <th>25%</th>\n",
       "      <td>1102.500000</td>\n",
       "      <td>442.250000</td>\n",
       "      <td>50.000000</td>\n",
       "      <td>-106.000000</td>\n",
       "    </tr>\n",
       "    <tr>\n",
       "      <th>50%</th>\n",
       "      <td>3000.000000</td>\n",
       "      <td>459.500000</td>\n",
       "      <td>53.726669</td>\n",
       "      <td>-98.739075</td>\n",
       "    </tr>\n",
       "    <tr>\n",
       "      <th>75%</th>\n",
       "      <td>3605.500000</td>\n",
       "      <td>475.000000</td>\n",
       "      <td>55.000000</td>\n",
       "      <td>-85.000000</td>\n",
       "    </tr>\n",
       "    <tr>\n",
       "      <th>max</th>\n",
       "      <td>5000.000000</td>\n",
       "      <td>902.000000</td>\n",
       "      <td>56.415211</td>\n",
       "      <td>-63.000000</td>\n",
       "    </tr>\n",
       "  </tbody>\n",
       "</table>\n",
       "</div>"
      ],
      "text/plain": [
       "       Invitations issued  CRS score of lowest-ranked candidate invited  \\\n",
       "count          167.000000                                    174.000000   \n",
       "mean          2490.395210                                    488.350575   \n",
       "std           1386.947354                                    110.234579   \n",
       "min            118.000000                                    199.000000   \n",
       "25%           1102.500000                                    442.250000   \n",
       "50%           3000.000000                                    459.500000   \n",
       "75%           3605.500000                                    475.000000   \n",
       "max           5000.000000                                    902.000000   \n",
       "\n",
       "         Latitude   Longitude  \n",
       "count  174.000000  174.000000  \n",
       "mean    51.731297  -94.072790  \n",
       "std      4.043197   21.733745  \n",
       "min     45.000000 -127.647621  \n",
       "25%     50.000000 -106.000000  \n",
       "50%     53.726669  -98.739075  \n",
       "75%     55.000000  -85.000000  \n",
       "max     56.415211  -63.000000  "
      ]
     },
     "execution_count": 31,
     "metadata": {},
     "output_type": "execute_result"
    }
   ],
   "source": [
    "df.describe()"
   ]
  },
  {
   "cell_type": "code",
   "execution_count": 32,
   "metadata": {},
   "outputs": [
    {
     "name": "stderr",
     "output_type": "stream",
     "text": [
      "C:\\Users\\Tarun\\AppData\\Local\\Temp\\ipykernel_3448\\1314900503.py:1: UserWarning: The argument 'infer_datetime_format' is deprecated and will be removed in a future version. A strict version of it is now the default, see https://pandas.pydata.org/pdeps/0004-consistent-to-datetime-parsing.html. You can safely remove this argument.\n",
      "  df['Date']=pd.to_datetime(\n"
     ]
    }
   ],
   "source": [
    "df['Date']=pd.to_datetime(\n",
    "    df['Date'],\n",
    "    errors=\"coerce\",\n",
    "    infer_datetime_format=False,\n",
    "    format=\"%d/%b/%Y\"\n",
    ")"
   ]
  },
  {
   "cell_type": "code",
   "execution_count": 33,
   "metadata": {},
   "outputs": [
    {
     "data": {
      "text/html": [
       "<div>\n",
       "<style scoped>\n",
       "    .dataframe tbody tr th:only-of-type {\n",
       "        vertical-align: middle;\n",
       "    }\n",
       "\n",
       "    .dataframe tbody tr th {\n",
       "        vertical-align: top;\n",
       "    }\n",
       "\n",
       "    .dataframe thead th {\n",
       "        text-align: right;\n",
       "    }\n",
       "</style>\n",
       "<table border=\"1\" class=\"dataframe\">\n",
       "  <thead>\n",
       "    <tr style=\"text-align: right;\">\n",
       "      <th></th>\n",
       "      <th>Date</th>\n",
       "      <th>Invitations issued</th>\n",
       "      <th>CRS score of lowest-ranked candidate invited</th>\n",
       "      <th>Programs covered</th>\n",
       "      <th>Province</th>\n",
       "      <th>Latitude</th>\n",
       "      <th>Longitude</th>\n",
       "    </tr>\n",
       "  </thead>\n",
       "  <tbody>\n",
       "    <tr>\n",
       "      <th>0</th>\n",
       "      <td>NaT</td>\n",
       "      <td>374.0</td>\n",
       "      <td>741</td>\n",
       "      <td>Provincial Nominee Class</td>\n",
       "      <td>Nova Scotia</td>\n",
       "      <td>45.000000</td>\n",
       "      <td>-63.000000</td>\n",
       "    </tr>\n",
       "    <tr>\n",
       "      <th>1</th>\n",
       "      <td>NaT</td>\n",
       "      <td>4750.0</td>\n",
       "      <td>461</td>\n",
       "      <td>Canadian Experience Class</td>\n",
       "      <td>Alberta</td>\n",
       "      <td>55.000000</td>\n",
       "      <td>-115.000000</td>\n",
       "    </tr>\n",
       "    <tr>\n",
       "      <th>2</th>\n",
       "      <td>NaT</td>\n",
       "      <td>250.0</td>\n",
       "      <td>813</td>\n",
       "      <td>Provincial Nominee Program</td>\n",
       "      <td>Saskatchewan</td>\n",
       "      <td>55.000000</td>\n",
       "      <td>-106.000000</td>\n",
       "    </tr>\n",
       "    <tr>\n",
       "      <th>3</th>\n",
       "      <td>NaT</td>\n",
       "      <td>5000.0</td>\n",
       "      <td>468</td>\n",
       "      <td>Federal Skilled Worker Program</td>\n",
       "      <td>Ontario</td>\n",
       "      <td>50.000000</td>\n",
       "      <td>-85.000000</td>\n",
       "    </tr>\n",
       "    <tr>\n",
       "      <th>4</th>\n",
       "      <td>NaT</td>\n",
       "      <td>5000.0</td>\n",
       "      <td>469</td>\n",
       "      <td>Federal Skilled Worker Program</td>\n",
       "      <td>Saskatchewan</td>\n",
       "      <td>55.000000</td>\n",
       "      <td>-106.000000</td>\n",
       "    </tr>\n",
       "    <tr>\n",
       "      <th>...</th>\n",
       "      <td>...</td>\n",
       "      <td>...</td>\n",
       "      <td>...</td>\n",
       "      <td>...</td>\n",
       "      <td>...</td>\n",
       "      <td>...</td>\n",
       "      <td>...</td>\n",
       "    </tr>\n",
       "    <tr>\n",
       "      <th>169</th>\n",
       "      <td>NaT</td>\n",
       "      <td>1620.0</td>\n",
       "      <td>481</td>\n",
       "      <td>Federal Skilled Worker Program</td>\n",
       "      <td>British Columbia</td>\n",
       "      <td>53.726669</td>\n",
       "      <td>-127.647621</td>\n",
       "    </tr>\n",
       "    <tr>\n",
       "      <th>170</th>\n",
       "      <td>NaT</td>\n",
       "      <td>1187.0</td>\n",
       "      <td>735</td>\n",
       "      <td>Federal Skilled Worker Program</td>\n",
       "      <td>Prince Edward Island</td>\n",
       "      <td>46.250000</td>\n",
       "      <td>-63.000000</td>\n",
       "    </tr>\n",
       "    <tr>\n",
       "      <th>171</th>\n",
       "      <td>NaT</td>\n",
       "      <td>849.0</td>\n",
       "      <td>808</td>\n",
       "      <td>Canadian Experience Class</td>\n",
       "      <td>Alberta</td>\n",
       "      <td>55.000000</td>\n",
       "      <td>-115.000000</td>\n",
       "    </tr>\n",
       "    <tr>\n",
       "      <th>172</th>\n",
       "      <td>NaT</td>\n",
       "      <td>779.0</td>\n",
       "      <td>818</td>\n",
       "      <td>Federal Skilled Worker Program</td>\n",
       "      <td>British Columbia</td>\n",
       "      <td>53.726669</td>\n",
       "      <td>-127.647621</td>\n",
       "    </tr>\n",
       "    <tr>\n",
       "      <th>173</th>\n",
       "      <td>NaT</td>\n",
       "      <td>779.0</td>\n",
       "      <td>886</td>\n",
       "      <td>Federal Skilled Worker Program</td>\n",
       "      <td>Nova Scotia</td>\n",
       "      <td>45.000000</td>\n",
       "      <td>-63.000000</td>\n",
       "    </tr>\n",
       "  </tbody>\n",
       "</table>\n",
       "<p>174 rows × 7 columns</p>\n",
       "</div>"
      ],
      "text/plain": [
       "    Date  Invitations issued  CRS score of lowest-ranked candidate invited  \\\n",
       "0    NaT               374.0                                           741   \n",
       "1    NaT              4750.0                                           461   \n",
       "2    NaT               250.0                                           813   \n",
       "3    NaT              5000.0                                           468   \n",
       "4    NaT              5000.0                                           469   \n",
       "..   ...                 ...                                           ...   \n",
       "169  NaT              1620.0                                           481   \n",
       "170  NaT              1187.0                                           735   \n",
       "171  NaT               849.0                                           808   \n",
       "172  NaT               779.0                                           818   \n",
       "173  NaT               779.0                                           886   \n",
       "\n",
       "                   Programs covered              Province   Latitude  \\\n",
       "0          Provincial Nominee Class           Nova Scotia  45.000000   \n",
       "1         Canadian Experience Class               Alberta  55.000000   \n",
       "2        Provincial Nominee Program          Saskatchewan  55.000000   \n",
       "3    Federal Skilled Worker Program               Ontario  50.000000   \n",
       "4    Federal Skilled Worker Program          Saskatchewan  55.000000   \n",
       "..                              ...                   ...        ...   \n",
       "169  Federal Skilled Worker Program      British Columbia  53.726669   \n",
       "170  Federal Skilled Worker Program  Prince Edward Island  46.250000   \n",
       "171       Canadian Experience Class               Alberta  55.000000   \n",
       "172  Federal Skilled Worker Program      British Columbia  53.726669   \n",
       "173  Federal Skilled Worker Program           Nova Scotia  45.000000   \n",
       "\n",
       "      Longitude  \n",
       "0    -63.000000  \n",
       "1   -115.000000  \n",
       "2   -106.000000  \n",
       "3    -85.000000  \n",
       "4   -106.000000  \n",
       "..          ...  \n",
       "169 -127.647621  \n",
       "170  -63.000000  \n",
       "171 -115.000000  \n",
       "172 -127.647621  \n",
       "173  -63.000000  \n",
       "\n",
       "[174 rows x 7 columns]"
      ]
     },
     "execution_count": 33,
     "metadata": {},
     "output_type": "execute_result"
    }
   ],
   "source": [
    "df"
   ]
  },
  {
   "cell_type": "markdown",
   "metadata": {},
   "source": [
    "# Score History"
   ]
  },
  {
   "cell_type": "code",
   "execution_count": 22,
   "metadata": {},
   "outputs": [
    {
     "data": {
      "image/png": "[encoded data removed]",
      "text/plain": [
       "<Figure size 960x640 with 1 Axes>"
      ]
     },
     "metadata": {},
     "output_type": "display_data"
    }
   ],
   "source": [
    "fig=plt.figure(figsize=(12, 8), dpi= 80)\n",
    "plt.plot(df['Date'], df['CRS score of lowest-ranked candidate invited'] )\n",
    "plt.xlabel('Date')\n",
    "plt.ylabel('Score')\n",
    "plt.show()"
   ]
  },
  {
   "cell_type": "markdown",
   "metadata": {},
   "source": [
    "There has been a significant change in the lowest scores starting on mid 2019. Since I am using a normal distribution to fit the lowest scores, it is necessary to use only the datapoints starting from May-2019."
   ]
  },
  {
   "cell_type": "code",
   "execution_count": 5,
   "metadata": {},
   "outputs": [
    {
     "data": {
      "text/html": [
       "<div>\n",
       "<style scoped>\n",
       "    .dataframe tbody tr th:only-of-type {\n",
       "        vertical-align: middle;\n",
       "    }\n",
       "\n",
       "    .dataframe tbody tr th {\n",
       "        vertical-align: top;\n",
       "    }\n",
       "\n",
       "    .dataframe thead th {\n",
       "        text-align: right;\n",
       "    }\n",
       "</style>\n",
       "<table border=\"1\" class=\"dataframe\">\n",
       "  <thead>\n",
       "    <tr style=\"text-align: right;\">\n",
       "      <th></th>\n",
       "      <th>dayOfInvitation</th>\n",
       "      <th>numberOfInvited</th>\n",
       "      <th>lowestScore</th>\n",
       "    </tr>\n",
       "  </thead>\n",
       "  <tbody>\n",
       "    <tr>\n",
       "      <th>38</th>\n",
       "      <td>2019-05-29</td>\n",
       "      <td>3350</td>\n",
       "      <td>470</td>\n",
       "    </tr>\n",
       "    <tr>\n",
       "      <th>39</th>\n",
       "      <td>2019-06-12</td>\n",
       "      <td>3350</td>\n",
       "      <td>465</td>\n",
       "    </tr>\n",
       "    <tr>\n",
       "      <th>40</th>\n",
       "      <td>2019-06-26</td>\n",
       "      <td>3350</td>\n",
       "      <td>462</td>\n",
       "    </tr>\n",
       "    <tr>\n",
       "      <th>41</th>\n",
       "      <td>2019-07-10</td>\n",
       "      <td>3600</td>\n",
       "      <td>460</td>\n",
       "    </tr>\n",
       "    <tr>\n",
       "      <th>42</th>\n",
       "      <td>2019-07-24</td>\n",
       "      <td>3600</td>\n",
       "      <td>459</td>\n",
       "    </tr>\n",
       "  </tbody>\n",
       "</table>\n",
       "</div>"
      ],
      "text/plain": [
       "   dayOfInvitation  numberOfInvited  lowestScore\n",
       "38      2019-05-29             3350          470\n",
       "39      2019-06-12             3350          465\n",
       "40      2019-06-26             3350          462\n",
       "41      2019-07-10             3600          460\n",
       "42      2019-07-24             3600          459"
      ]
     },
     "execution_count": 5,
     "metadata": {},
     "output_type": "execute_result"
    }
   ],
   "source": [
    "data = data_ori.iloc[38:,:]\n",
    "data.head()"
   ]
  },
  {
   "cell_type": "markdown",
   "metadata": {
    "_uuid": "4a8260775ddf2dc76e558ce3492a53ac63da6749"
   },
   "source": [
    "# Chance of being invited"
   ]
  },
  {
   "cell_type": "markdown",
   "metadata": {
    "_uuid": "fea4ff35b83b3d476fbd64b9c729f6b076da1284"
   },
   "source": [
    "First, let's check our chances of being invited. To do that, we will assume a normal distribution and check the cumulative probability distribution associated with our score."
   ]
  },
  {
   "cell_type": "code",
   "execution_count": 6,
   "metadata": {
    "_uuid": "afb8ea7a078fc5da16e1c6fa92c09d77f03ad146"
   },
   "outputs": [
    {
     "data": {
      "image/png": "[encoded data removed]",
      "text/plain": [
       "<matplotlib.figure.Figure at 0x7f8c73bd3fd0>"
      ]
     },
     "metadata": {},
     "output_type": "display_data"
    },
    {
     "name": "stdout",
     "output_type": "stream",
     "text": [
      "The probability of being invited in the next round is: 53.1%\n"
     ]
    }
   ],
   "source": [
    "scrMean = data['lowestScore'].mean()\n",
    "scrStd = data['lowestScore'].std()\n",
    "\n",
    "fig=plt.figure(figsize=(12, 8), dpi= 80)\n",
    "x = np.linspace(scrMean - 3*scrStd, scrMean + 3*scrStd, 100)\n",
    "plt.plot(x,mlab.normpdf(x, scrMean, scrStd), label='Pdf')\n",
    "plt.plot([candidateScore,candidateScore],[0,scipy.stats.norm(scrMean, scrStd).pdf(candidateScore)],color='green', label='Candidate score')\n",
    "plt.plot([scrMean,scrMean],[0,scipy.stats.norm(scrMean, scrStd).pdf(scrMean)],color='red', label='50.0%', linestyle='--')\n",
    "plt.plot([scrMean+scrStd,scrMean+scrStd],[0,scipy.stats.norm(scrMean, scrStd).pdf(scrMean+scrStd)],color='red', label='84.1%', linestyle=':')\n",
    "plt.plot([scrMean+2*scrStd,scrMean+2*scrStd],[0,scipy.stats.norm(scrMean, scrStd).pdf(scrMean+2*scrStd)],color='red', label='97.7%')\n",
    "plt.grid()\n",
    "plt.legend()\n",
    "plt.title('Probability Density Function')\n",
    "plt.xlabel('Score')\n",
    "\n",
    "plt.show()\n",
    "\n",
    "invitationProbability = round(scipy.stats.norm(scrMean, scrStd).cdf(candidateScore),3)\n",
    "print('The probability of being invited in the next round is: {}%'.format(invitationProbability*100))"
   ]
  },
  {
   "cell_type": "markdown",
   "metadata": {
    "_uuid": "9bee24c7028377f192f562d2c949f0dc6efe9b18"
   },
   "source": [
    "# Day of next invitation"
   ]
  },
  {
   "cell_type": "markdown",
   "metadata": {
    "_uuid": "561abd68d577d5de78569e34096dc4d19937824f"
   },
   "source": [
    "Now, let's try to predict when the next round of invitations will take place. First, let's check the day of the week of the previous invitations."
   ]
  },
  {
   "cell_type": "code",
   "execution_count": 7,
   "metadata": {
    "_uuid": "65a655148a9673ed4e890da057a939a4f428e8a0"
   },
   "outputs": [
    {
     "name": "stderr",
     "output_type": "stream",
     "text": [
      "/opt/conda/lib/python3.6/site-packages/ipykernel_launcher.py:1: SettingWithCopyWarning: \n",
      "A value is trying to be set on a copy of a slice from a DataFrame.\n",
      "Try using .loc[row_indexer,col_indexer] = value instead\n",
      "\n",
      "See the caveats in the documentation: http://pandas.pydata.org/pandas-docs/stable/indexing.html#indexing-view-versus-copy\n",
      "  \"\"\"Entry point for launching an IPython kernel.\n"
     ]
    }
   ],
   "source": [
    "data['dayOfWeek'] = data['dayOfInvitation'].dt.weekday_name"
   ]
  },
  {
   "cell_type": "code",
   "execution_count": 8,
   "metadata": {
    "_uuid": "04a391f73b7bcc60351c038cff4c09ec51f0195e"
   },
   "outputs": [
    {
     "data": {
      "text/plain": [
       "Text(0,0.5,'Rounds')"
      ]
     },
     "execution_count": 8,
     "metadata": {},
     "output_type": "execute_result"
    },
    {
     "data": {
      "image/png": "[encoded data removed]",
      "text/plain": [
       "<matplotlib.figure.Figure at 0x7f8c7746c828>"
      ]
     },
     "metadata": {},
     "output_type": "display_data"
    }
   ],
   "source": [
    "fig=plt.figure(figsize=(12, 8), dpi= 80)\n",
    "ax = data.groupby(by='dayOfWeek')['dayOfWeek'].count().plot(kind='bar')\n",
    "ax.set_xlabel(\"Day of the Week\")\n",
    "ax.set_ylabel(\"Rounds\")"
   ]
  },
  {
   "cell_type": "markdown",
   "metadata": {
    "_uuid": "5c4d0631e0febca566311c95738c80731b1d354d"
   },
   "source": [
    "So, we can see that the invitations occur usually on Wednesdays but sometimes on Mondays. The safe bet would be Wednesday.\n",
    "Now, let's check the mean interval between invitations and add that to the last invitation."
   ]
  },
  {
   "cell_type": "code",
   "execution_count": 9,
   "metadata": {
    "_uuid": "9d06f215652db953c002920e3074412a03a81ae4"
   },
   "outputs": [
    {
     "name": "stdout",
     "output_type": "stream",
     "text": [
      "The next invitation will probably take place on 2019-11-27.\n"
     ]
    },
    {
     "name": "stderr",
     "output_type": "stream",
     "text": [
      "/opt/conda/lib/python3.6/site-packages/ipykernel_launcher.py:1: SettingWithCopyWarning: \n",
      "A value is trying to be set on a copy of a slice from a DataFrame.\n",
      "Try using .loc[row_indexer,col_indexer] = value instead\n",
      "\n",
      "See the caveats in the documentation: http://pandas.pydata.org/pandas-docs/stable/indexing.html#indexing-view-versus-copy\n",
      "  \"\"\"Entry point for launching an IPython kernel.\n"
     ]
    }
   ],
   "source": [
    "data['dayOfInvitationShifted'] = data['dayOfInvitation'].shift(-1)\n",
    "meanInterval=(data['dayOfInvitationShifted']-data['dayOfInvitation']).mean()\n",
    "\n",
    "#Adding this to the last invitation date\n",
    "nextinvitation = list(data['dayOfInvitation'])[-1]+meanInterval\n",
    "\n",
    "#weekday = 0 is monday - 6 is sunday\n",
    "dayofweek = nextinvitation.weekday()\n",
    "\n",
    "#Let's take the closest wednesday (weekday=2)\n",
    "nextinvitationday = nextinvitation.day + 2 - dayofweek\n",
    "\n",
    "#Convert back to date\n",
    "nextinvitation = datetime.date(nextinvitation.year, nextinvitation.month, nextinvitationday)\n",
    "\n",
    "print('The next invitation will probably take place on {}.'.format(nextinvitation))"
   ]
  },
  {
   "cell_type": "markdown",
   "metadata": {
    "_uuid": "d8841421b31e61e059c1d35caae99290172a5995"
   },
   "source": [
    "# How many candidates will be invited\n",
    "For this one we will only check the tendency of the last invitations."
   ]
  },
  {
   "cell_type": "code",
   "execution_count": 10,
   "metadata": {
    "_uuid": "6c52103469ecb90948ff4f4ecc7a2b0ea26120de"
   },
   "outputs": [
    {
     "data": {
      "text/plain": [
       "Text(0,0.5,'Number of People Invited')"
      ]
     },
     "execution_count": 10,
     "metadata": {},
     "output_type": "execute_result"
    },
    {
     "data": {
      "image/png": "[encoded data removed]",
      "text/plain": [
       "<matplotlib.figure.Figure at 0x7f8c77494400>"
      ]
     },
     "metadata": {},
     "output_type": "display_data"
    }
   ],
   "source": [
    "fig=plt.figure(figsize=(12, 8), dpi= 80)\n",
    "plt.plot(data['dayOfInvitation'], data['numberOfInvited'] )\n",
    "plt.xlabel('Date')\n",
    "plt.ylabel('Number of People Invited')"
   ]
  },
  {
   "cell_type": "markdown",
   "metadata": {
    "_uuid": "e38ac0697fab0b624e22a9efe774b6f281974c49"
   },
   "source": [
    "It looks like the number of invitations per round seems to be floating around 3600."
   ]
  },
  {
   "cell_type": "code",
   "execution_count": 11,
   "metadata": {
    "_uuid": "5441d848e3381dd75b6c5875f5be590881b2a57f"
   },
   "outputs": [
    {
     "data": {
      "text/plain": [
       "Text(0,0.5,'Rounds')"
      ]
     },
     "execution_count": 11,
     "metadata": {},
     "output_type": "execute_result"
    },
    {
     "data": {
      "image/png": "[encoded data removed]",
      "text/plain": [
       "<matplotlib.figure.Figure at 0x7f8c7ea606a0>"
      ]
     },
     "metadata": {},
     "output_type": "display_data"
    }
   ],
   "source": [
    "fig=plt.figure(figsize=(12, 8), dpi= 80)\n",
    "ax = data.groupby(by='numberOfInvited')['numberOfInvited'].count().plot(kind='bar')\n",
    "ax.set_xlabel(\"Number of People Invited\")\n",
    "ax.set_ylabel(\"Rounds\")"
   ]
  },
  {
   "cell_type": "markdown",
   "metadata": {
    "_uuid": "b0407b0563ea33813b52e9dca578b5af982838f5"
   },
   "source": [
    "It seems that CIC is adjusting the number of invitations per round. Maybe this is intended to keep the minimum score at a specific level. Not too high, not too low. Therefore, it is possible that they will invite 3600 people for the next round."
   ]
  },
  {
   "cell_type": "markdown",
   "metadata": {
    "_uuid": "4c2ef3a87f46656c0a9f4e0968d2ceba228b95db"
   },
   "source": [
    "# Conclusion\n",
    "With a score of 465, the chance of being invited is around 53%.\n",
    "\n",
    "The next invitation will probably take place on November 27th.\n",
    "\n",
    "They will probably invite 3600 people."
   ]
  },
  {
   "cell_type": "code",
   "execution_count": 12,
   "metadata": {
    "_uuid": "7c19d266090f17521635e62c4a710c3b89e5ee4e",
    "collapsed": true,
    "jupyter": {
     "outputs_hidden": true
    }
   },
   "outputs": [],
   "source": []
  }
 ],
 "metadata": {
  "kernelspec": {
   "display_name": "Python 3 (ipykernel)",
   "language": "python",
   "name": "python3"
  },
  "language_info": {
   "codemirror_mode": {
    "name": "ipython",
    "version": 3
   },
   "file_extension": ".py",
   "mimetype": "text/x-python",
   "name": "python",
   "nbconvert_exporter": "python",
   "pygments_lexer": "ipython3",
   "version": "3.12.0"
  }
 },
 "nbformat": 4,
 "nbformat_minor": 4
}
