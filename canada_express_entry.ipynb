{
 "cells": [
  {
   "cell_type": "code",
   "execution_count": 2,
   "metadata": {
    "_uuid": "b192e9edac743ae5dc44fce2aed3b64b148e3653"
   },
   "outputs": [],
   "source": [
    "import pandas as pd\n",
    "import matplotlib.pyplot as plt\n",
    "import matplotlib.mlab as mlab\n",
    "import numpy as np\n",
    "import scipy.stats\n",
    "import datetime\n",
    "%matplotlib inline"
   ]
  },
  {
   "cell_type": "markdown",
   "metadata": {
    "_uuid": "4a762e478f40a0f7af2546e384b658abeebc8077"
   },
   "source": [
    "# Data\n",
    "This data is public available at https://www.canada.ca/en/immigration-refugees-citizenship/services/immigrate-canada/express-entry/submit-profile/rounds-invitations.html ."
   ]
  },
  {
   "cell_type": "code",
   "execution_count": 6,
   "metadata": {
    "_uuid": "16a152adf907eab46d6d24cb3fb13088b0a75f39"
   },
   "outputs": [],
   "source": [
    "candidateScore = 465\n",
    "df = pd.read_csv('dataset/ExpressEntry.csv')\n",
    "df['dayOfInvitation'] = pd.to_datetime(data_ori['dayOfInvitation'])"
   ]
  },
  {
   "cell_type": "code",
   "execution_count": 7,
   "metadata": {
    "_uuid": "d9a56a10ce73131a7fcbdf6a85d220df3307f011",
    "scrolled": true
   },
   "outputs": [
    {
     "data": {
      "text/html": [
       "<div>\n",
       "<style scoped>\n",
       "    .dataframe tbody tr th:only-of-type {\n",
       "        vertical-align: middle;\n",
       "    }\n",
       "\n",
       "    .dataframe tbody tr th {\n",
       "        vertical-align: top;\n",
       "    }\n",
       "\n",
       "    .dataframe thead th {\n",
       "        text-align: right;\n",
       "    }\n",
       "</style>\n",
       "<table border=\"1\" class=\"dataframe\">\n",
       "  <thead>\n",
       "    <tr style=\"text-align: right;\">\n",
       "      <th></th>\n",
       "      <th>dayOfInvitation</th>\n",
       "      <th>numberOfInvited</th>\n",
       "      <th>lowestScore</th>\n",
       "    </tr>\n",
       "  </thead>\n",
       "  <tbody>\n",
       "    <tr>\n",
       "      <th>0</th>\n",
       "      <td>2017-11-08</td>\n",
       "      <td>2000</td>\n",
       "      <td>458</td>\n",
       "    </tr>\n",
       "    <tr>\n",
       "      <th>1</th>\n",
       "      <td>2017-11-15</td>\n",
       "      <td>2750</td>\n",
       "      <td>439</td>\n",
       "    </tr>\n",
       "    <tr>\n",
       "      <th>2</th>\n",
       "      <td>2017-12-06</td>\n",
       "      <td>2750</td>\n",
       "      <td>452</td>\n",
       "    </tr>\n",
       "    <tr>\n",
       "      <th>3</th>\n",
       "      <td>2017-12-20</td>\n",
       "      <td>2750</td>\n",
       "      <td>446</td>\n",
       "    </tr>\n",
       "    <tr>\n",
       "      <th>4</th>\n",
       "      <td>2018-01-10</td>\n",
       "      <td>2750</td>\n",
       "      <td>446</td>\n",
       "    </tr>\n",
       "    <tr>\n",
       "      <th>5</th>\n",
       "      <td>2018-01-24</td>\n",
       "      <td>2750</td>\n",
       "      <td>444</td>\n",
       "    </tr>\n",
       "    <tr>\n",
       "      <th>6</th>\n",
       "      <td>2018-02-07</td>\n",
       "      <td>3000</td>\n",
       "      <td>442</td>\n",
       "    </tr>\n",
       "    <tr>\n",
       "      <th>7</th>\n",
       "      <td>2018-02-21</td>\n",
       "      <td>3000</td>\n",
       "      <td>442</td>\n",
       "    </tr>\n",
       "    <tr>\n",
       "      <th>8</th>\n",
       "      <td>2018-03-14</td>\n",
       "      <td>3000</td>\n",
       "      <td>456</td>\n",
       "    </tr>\n",
       "    <tr>\n",
       "      <th>9</th>\n",
       "      <td>2018-03-26</td>\n",
       "      <td>3000</td>\n",
       "      <td>446</td>\n",
       "    </tr>\n",
       "    <tr>\n",
       "      <th>10</th>\n",
       "      <td>2018-04-11</td>\n",
       "      <td>3500</td>\n",
       "      <td>444</td>\n",
       "    </tr>\n",
       "    <tr>\n",
       "      <th>11</th>\n",
       "      <td>2018-04-25</td>\n",
       "      <td>3500</td>\n",
       "      <td>441</td>\n",
       "    </tr>\n",
       "    <tr>\n",
       "      <th>12</th>\n",
       "      <td>2018-05-09</td>\n",
       "      <td>3500</td>\n",
       "      <td>441</td>\n",
       "    </tr>\n",
       "    <tr>\n",
       "      <th>13</th>\n",
       "      <td>2018-05-23</td>\n",
       "      <td>3500</td>\n",
       "      <td>440</td>\n",
       "    </tr>\n",
       "    <tr>\n",
       "      <th>14</th>\n",
       "      <td>2018-06-13</td>\n",
       "      <td>3750</td>\n",
       "      <td>451</td>\n",
       "    </tr>\n",
       "    <tr>\n",
       "      <th>15</th>\n",
       "      <td>2018-06-25</td>\n",
       "      <td>3750</td>\n",
       "      <td>442</td>\n",
       "    </tr>\n",
       "    <tr>\n",
       "      <th>16</th>\n",
       "      <td>2018-07-11</td>\n",
       "      <td>3750</td>\n",
       "      <td>442</td>\n",
       "    </tr>\n",
       "    <tr>\n",
       "      <th>17</th>\n",
       "      <td>2018-07-25</td>\n",
       "      <td>3750</td>\n",
       "      <td>441</td>\n",
       "    </tr>\n",
       "    <tr>\n",
       "      <th>18</th>\n",
       "      <td>2018-08-08</td>\n",
       "      <td>3750</td>\n",
       "      <td>440</td>\n",
       "    </tr>\n",
       "    <tr>\n",
       "      <th>19</th>\n",
       "      <td>2018-08-22</td>\n",
       "      <td>3750</td>\n",
       "      <td>440</td>\n",
       "    </tr>\n",
       "    <tr>\n",
       "      <th>20</th>\n",
       "      <td>2018-09-05</td>\n",
       "      <td>3900</td>\n",
       "      <td>440</td>\n",
       "    </tr>\n",
       "    <tr>\n",
       "      <th>21</th>\n",
       "      <td>2018-09-19</td>\n",
       "      <td>3500</td>\n",
       "      <td>441</td>\n",
       "    </tr>\n",
       "    <tr>\n",
       "      <th>22</th>\n",
       "      <td>2018-10-03</td>\n",
       "      <td>3900</td>\n",
       "      <td>445</td>\n",
       "    </tr>\n",
       "    <tr>\n",
       "      <th>23</th>\n",
       "      <td>2018-10-15</td>\n",
       "      <td>3900</td>\n",
       "      <td>440</td>\n",
       "    </tr>\n",
       "    <tr>\n",
       "      <th>24</th>\n",
       "      <td>2018-10-29</td>\n",
       "      <td>3900</td>\n",
       "      <td>442</td>\n",
       "    </tr>\n",
       "    <tr>\n",
       "      <th>25</th>\n",
       "      <td>2018-11-14</td>\n",
       "      <td>2900</td>\n",
       "      <td>449</td>\n",
       "    </tr>\n",
       "    <tr>\n",
       "      <th>26</th>\n",
       "      <td>2018-11-28</td>\n",
       "      <td>3900</td>\n",
       "      <td>445</td>\n",
       "    </tr>\n",
       "    <tr>\n",
       "      <th>27</th>\n",
       "      <td>2018-12-12</td>\n",
       "      <td>3900</td>\n",
       "      <td>445</td>\n",
       "    </tr>\n",
       "    <tr>\n",
       "      <th>28</th>\n",
       "      <td>2018-12-19</td>\n",
       "      <td>3900</td>\n",
       "      <td>439</td>\n",
       "    </tr>\n",
       "    <tr>\n",
       "      <th>29</th>\n",
       "      <td>2019-01-09</td>\n",
       "      <td>3900</td>\n",
       "      <td>449</td>\n",
       "    </tr>\n",
       "    <tr>\n",
       "      <th>30</th>\n",
       "      <td>2019-01-23</td>\n",
       "      <td>3900</td>\n",
       "      <td>443</td>\n",
       "    </tr>\n",
       "    <tr>\n",
       "      <th>31</th>\n",
       "      <td>2019-01-30</td>\n",
       "      <td>3350</td>\n",
       "      <td>438</td>\n",
       "    </tr>\n",
       "    <tr>\n",
       "      <th>32</th>\n",
       "      <td>2019-02-20</td>\n",
       "      <td>3350</td>\n",
       "      <td>457</td>\n",
       "    </tr>\n",
       "    <tr>\n",
       "      <th>33</th>\n",
       "      <td>2019-03-06</td>\n",
       "      <td>3350</td>\n",
       "      <td>454</td>\n",
       "    </tr>\n",
       "    <tr>\n",
       "      <th>34</th>\n",
       "      <td>2019-03-20</td>\n",
       "      <td>3350</td>\n",
       "      <td>452</td>\n",
       "    </tr>\n",
       "    <tr>\n",
       "      <th>35</th>\n",
       "      <td>2019-04-03</td>\n",
       "      <td>3350</td>\n",
       "      <td>451</td>\n",
       "    </tr>\n",
       "    <tr>\n",
       "      <th>36</th>\n",
       "      <td>2019-04-17</td>\n",
       "      <td>3350</td>\n",
       "      <td>451</td>\n",
       "    </tr>\n",
       "    <tr>\n",
       "      <th>37</th>\n",
       "      <td>2019-05-01</td>\n",
       "      <td>3350</td>\n",
       "      <td>450</td>\n",
       "    </tr>\n",
       "    <tr>\n",
       "      <th>38</th>\n",
       "      <td>2019-05-29</td>\n",
       "      <td>3350</td>\n",
       "      <td>470</td>\n",
       "    </tr>\n",
       "    <tr>\n",
       "      <th>39</th>\n",
       "      <td>2019-06-12</td>\n",
       "      <td>3350</td>\n",
       "      <td>465</td>\n",
       "    </tr>\n",
       "    <tr>\n",
       "      <th>40</th>\n",
       "      <td>2019-06-26</td>\n",
       "      <td>3350</td>\n",
       "      <td>462</td>\n",
       "    </tr>\n",
       "    <tr>\n",
       "      <th>41</th>\n",
       "      <td>2019-07-10</td>\n",
       "      <td>3600</td>\n",
       "      <td>460</td>\n",
       "    </tr>\n",
       "    <tr>\n",
       "      <th>42</th>\n",
       "      <td>2019-07-24</td>\n",
       "      <td>3600</td>\n",
       "      <td>459</td>\n",
       "    </tr>\n",
       "    <tr>\n",
       "      <th>43</th>\n",
       "      <td>2019-08-12</td>\n",
       "      <td>3600</td>\n",
       "      <td>466</td>\n",
       "    </tr>\n",
       "    <tr>\n",
       "      <th>44</th>\n",
       "      <td>2019-08-20</td>\n",
       "      <td>3600</td>\n",
       "      <td>457</td>\n",
       "    </tr>\n",
       "    <tr>\n",
       "      <th>45</th>\n",
       "      <td>2019-09-04</td>\n",
       "      <td>3600</td>\n",
       "      <td>463</td>\n",
       "    </tr>\n",
       "    <tr>\n",
       "      <th>46</th>\n",
       "      <td>2019-09-18</td>\n",
       "      <td>3600</td>\n",
       "      <td>462</td>\n",
       "    </tr>\n",
       "    <tr>\n",
       "      <th>47</th>\n",
       "      <td>2019-10-02</td>\n",
       "      <td>3900</td>\n",
       "      <td>464</td>\n",
       "    </tr>\n",
       "    <tr>\n",
       "      <th>48</th>\n",
       "      <td>2019-10-30</td>\n",
       "      <td>3900</td>\n",
       "      <td>475</td>\n",
       "    </tr>\n",
       "    <tr>\n",
       "      <th>49</th>\n",
       "      <td>2019-11-13</td>\n",
       "      <td>3600</td>\n",
       "      <td>472</td>\n",
       "    </tr>\n",
       "  </tbody>\n",
       "</table>\n",
       "</div>"
      ],
      "text/plain": [
       "   dayOfInvitation  numberOfInvited  lowestScore\n",
       "0       2017-11-08             2000          458\n",
       "1       2017-11-15             2750          439\n",
       "2       2017-12-06             2750          452\n",
       "3       2017-12-20             2750          446\n",
       "4       2018-01-10             2750          446\n",
       "5       2018-01-24             2750          444\n",
       "6       2018-02-07             3000          442\n",
       "7       2018-02-21             3000          442\n",
       "8       2018-03-14             3000          456\n",
       "9       2018-03-26             3000          446\n",
       "10      2018-04-11             3500          444\n",
       "11      2018-04-25             3500          441\n",
       "12      2018-05-09             3500          441\n",
       "13      2018-05-23             3500          440\n",
       "14      2018-06-13             3750          451\n",
       "15      2018-06-25             3750          442\n",
       "16      2018-07-11             3750          442\n",
       "17      2018-07-25             3750          441\n",
       "18      2018-08-08             3750          440\n",
       "19      2018-08-22             3750          440\n",
       "20      2018-09-05             3900          440\n",
       "21      2018-09-19             3500          441\n",
       "22      2018-10-03             3900          445\n",
       "23      2018-10-15             3900          440\n",
       "24      2018-10-29             3900          442\n",
       "25      2018-11-14             2900          449\n",
       "26      2018-11-28             3900          445\n",
       "27      2018-12-12             3900          445\n",
       "28      2018-12-19             3900          439\n",
       "29      2019-01-09             3900          449\n",
       "30      2019-01-23             3900          443\n",
       "31      2019-01-30             3350          438\n",
       "32      2019-02-20             3350          457\n",
       "33      2019-03-06             3350          454\n",
       "34      2019-03-20             3350          452\n",
       "35      2019-04-03             3350          451\n",
       "36      2019-04-17             3350          451\n",
       "37      2019-05-01             3350          450\n",
       "38      2019-05-29             3350          470\n",
       "39      2019-06-12             3350          465\n",
       "40      2019-06-26             3350          462\n",
       "41      2019-07-10             3600          460\n",
       "42      2019-07-24             3600          459\n",
       "43      2019-08-12             3600          466\n",
       "44      2019-08-20             3600          457\n",
       "45      2019-09-04             3600          463\n",
       "46      2019-09-18             3600          462\n",
       "47      2019-10-02             3900          464\n",
       "48      2019-10-30             3900          475\n",
       "49      2019-11-13             3600          472"
      ]
     },
     "execution_count": 7,
     "metadata": {},
     "output_type": "execute_result"
    }
   ],
   "source": [
    "df"
   ]
  },
  {
   "cell_type": "markdown",
   "metadata": {},
   "source": [
    "# Lowest Score History"
   ]
  },
  {
   "cell_type": "code",
   "execution_count": 4,
   "metadata": {},
   "outputs": [
    {
     "data": {
      "text/plain": [
       "Text(0,0.5,'Score')"
      ]
     },
     "execution_count": 4,
     "metadata": {},
     "output_type": "execute_result"
    },
    {
     "data": {
      "image/png": "[encoded data removed]",
      "text/plain": [
       "<matplotlib.figure.Figure at 0x7f8c7746ca58>"
      ]
     },
     "metadata": {},
     "output_type": "display_data"
    }
   ],
   "source": [
    "fig=plt.figure(figsize=(12, 8), dpi= 80)\n",
    "plt.plot(data_ori['dayOfInvitation'], data_ori['lowestScore'] )\n",
    "plt.xlabel('Date')\n",
    "plt.ylabel('Score')"
   ]
  },
  {
   "cell_type": "markdown",
   "metadata": {},
   "source": [
    "There has been a significant change in the lowest scores starting on mid 2019. Since I am using a normal distribution to fit the lowest scores, it is necessary to use only the datapoints starting from May-2019."
   ]
  },
  {
   "cell_type": "code",
   "execution_count": 5,
   "metadata": {},
   "outputs": [
    {
     "data": {
      "text/html": [
       "<div>\n",
       "<style scoped>\n",
       "    .dataframe tbody tr th:only-of-type {\n",
       "        vertical-align: middle;\n",
       "    }\n",
       "\n",
       "    .dataframe tbody tr th {\n",
       "        vertical-align: top;\n",
       "    }\n",
       "\n",
       "    .dataframe thead th {\n",
       "        text-align: right;\n",
       "    }\n",
       "</style>\n",
       "<table border=\"1\" class=\"dataframe\">\n",
       "  <thead>\n",
       "    <tr style=\"text-align: right;\">\n",
       "      <th></th>\n",
       "      <th>dayOfInvitation</th>\n",
       "      <th>numberOfInvited</th>\n",
       "      <th>lowestScore</th>\n",
       "    </tr>\n",
       "  </thead>\n",
       "  <tbody>\n",
       "    <tr>\n",
       "      <th>38</th>\n",
       "      <td>2019-05-29</td>\n",
       "      <td>3350</td>\n",
       "      <td>470</td>\n",
       "    </tr>\n",
       "    <tr>\n",
       "      <th>39</th>\n",
       "      <td>2019-06-12</td>\n",
       "      <td>3350</td>\n",
       "      <td>465</td>\n",
       "    </tr>\n",
       "    <tr>\n",
       "      <th>40</th>\n",
       "      <td>2019-06-26</td>\n",
       "      <td>3350</td>\n",
       "      <td>462</td>\n",
       "    </tr>\n",
       "    <tr>\n",
       "      <th>41</th>\n",
       "      <td>2019-07-10</td>\n",
       "      <td>3600</td>\n",
       "      <td>460</td>\n",
       "    </tr>\n",
       "    <tr>\n",
       "      <th>42</th>\n",
       "      <td>2019-07-24</td>\n",
       "      <td>3600</td>\n",
       "      <td>459</td>\n",
       "    </tr>\n",
       "  </tbody>\n",
       "</table>\n",
       "</div>"
      ],
      "text/plain": [
       "   dayOfInvitation  numberOfInvited  lowestScore\n",
       "38      2019-05-29             3350          470\n",
       "39      2019-06-12             3350          465\n",
       "40      2019-06-26             3350          462\n",
       "41      2019-07-10             3600          460\n",
       "42      2019-07-24             3600          459"
      ]
     },
     "execution_count": 5,
     "metadata": {},
     "output_type": "execute_result"
    }
   ],
   "source": [
    "data = data_ori.iloc[38:,:]\n",
    "data.head()"
   ]
  },
  {
   "cell_type": "markdown",
   "metadata": {
    "_uuid": "4a8260775ddf2dc76e558ce3492a53ac63da6749"
   },
   "source": [
    "# Chance of being invited"
   ]
  },
  {
   "cell_type": "markdown",
   "metadata": {
    "_uuid": "fea4ff35b83b3d476fbd64b9c729f6b076da1284"
   },
   "source": [
    "First, let's check our chances of being invited. To do that, we will assume a normal distribution and check the cumulative probability distribution associated with our score."
   ]
  },
  {
   "cell_type": "code",
   "execution_count": 6,
   "metadata": {
    "_uuid": "afb8ea7a078fc5da16e1c6fa92c09d77f03ad146"
   },
   "outputs": [
    {
     "data": {
      "image/png": "[encoded data removed]",
      "text/plain": [
       "<matplotlib.figure.Figure at 0x7f8c73bd3fd0>"
      ]
     },
     "metadata": {},
     "output_type": "display_data"
    },
    {
     "name": "stdout",
     "output_type": "stream",
     "text": [
      "The probability of being invited in the next round is: 53.1%\n"
     ]
    }
   ],
   "source": [
    "scrMean = data['lowestScore'].mean()\n",
    "scrStd = data['lowestScore'].std()\n",
    "\n",
    "fig=plt.figure(figsize=(12, 8), dpi= 80)\n",
    "x = np.linspace(scrMean - 3*scrStd, scrMean + 3*scrStd, 100)\n",
    "plt.plot(x,mlab.normpdf(x, scrMean, scrStd), label='Pdf')\n",
    "plt.plot([candidateScore,candidateScore],[0,scipy.stats.norm(scrMean, scrStd).pdf(candidateScore)],color='green', label='Candidate score')\n",
    "plt.plot([scrMean,scrMean],[0,scipy.stats.norm(scrMean, scrStd).pdf(scrMean)],color='red', label='50.0%', linestyle='--')\n",
    "plt.plot([scrMean+scrStd,scrMean+scrStd],[0,scipy.stats.norm(scrMean, scrStd).pdf(scrMean+scrStd)],color='red', label='84.1%', linestyle=':')\n",
    "plt.plot([scrMean+2*scrStd,scrMean+2*scrStd],[0,scipy.stats.norm(scrMean, scrStd).pdf(scrMean+2*scrStd)],color='red', label='97.7%')\n",
    "plt.grid()\n",
    "plt.legend()\n",
    "plt.title('Probability Density Function')\n",
    "plt.xlabel('Score')\n",
    "\n",
    "plt.show()\n",
    "\n",
    "invitationProbability = round(scipy.stats.norm(scrMean, scrStd).cdf(candidateScore),3)\n",
    "print('The probability of being invited in the next round is: {}%'.format(invitationProbability*100))"
   ]
  },
  {
   "cell_type": "markdown",
   "metadata": {
    "_uuid": "9bee24c7028377f192f562d2c949f0dc6efe9b18"
   },
   "source": [
    "# Day of next invitation"
   ]
  },
  {
   "cell_type": "markdown",
   "metadata": {
    "_uuid": "561abd68d577d5de78569e34096dc4d19937824f"
   },
   "source": [
    "Now, let's try to predict when the next round of invitations will take place. First, let's check the day of the week of the previous invitations."
   ]
  },
  {
   "cell_type": "code",
   "execution_count": 7,
   "metadata": {
    "_uuid": "65a655148a9673ed4e890da057a939a4f428e8a0"
   },
   "outputs": [
    {
     "name": "stderr",
     "output_type": "stream",
     "text": [
      "/opt/conda/lib/python3.6/site-packages/ipykernel_launcher.py:1: SettingWithCopyWarning: \n",
      "A value is trying to be set on a copy of a slice from a DataFrame.\n",
      "Try using .loc[row_indexer,col_indexer] = value instead\n",
      "\n",
      "See the caveats in the documentation: http://pandas.pydata.org/pandas-docs/stable/indexing.html#indexing-view-versus-copy\n",
      "  \"\"\"Entry point for launching an IPython kernel.\n"
     ]
    }
   ],
   "source": [
    "data['dayOfWeek'] = data['dayOfInvitation'].dt.weekday_name"
   ]
  },
  {
   "cell_type": "code",
   "execution_count": 8,
   "metadata": {
    "_uuid": "04a391f73b7bcc60351c038cff4c09ec51f0195e"
   },
   "outputs": [
    {
     "data": {
      "text/plain": [
       "Text(0,0.5,'Rounds')"
      ]
     },
     "execution_count": 8,
     "metadata": {},
     "output_type": "execute_result"
    },
    {
     "data": {
      "image/png": "[encoded data removed]",
      "text/plain": [
       "<matplotlib.figure.Figure at 0x7f8c7746c828>"
      ]
     },
     "metadata": {},
     "output_type": "display_data"
    }
   ],
   "source": [
    "fig=plt.figure(figsize=(12, 8), dpi= 80)\n",
    "ax = data.groupby(by='dayOfWeek')['dayOfWeek'].count().plot(kind='bar')\n",
    "ax.set_xlabel(\"Day of the Week\")\n",
    "ax.set_ylabel(\"Rounds\")"
   ]
  },
  {
   "cell_type": "markdown",
   "metadata": {
    "_uuid": "5c4d0631e0febca566311c95738c80731b1d354d"
   },
   "source": [
    "So, we can see that the invitations occur usually on Wednesdays but sometimes on Mondays. The safe bet would be Wednesday.\n",
    "Now, let's check the mean interval between invitations and add that to the last invitation."
   ]
  },
  {
   "cell_type": "code",
   "execution_count": 9,
   "metadata": {
    "_uuid": "9d06f215652db953c002920e3074412a03a81ae4"
   },
   "outputs": [
    {
     "name": "stdout",
     "output_type": "stream",
     "text": [
      "The next invitation will probably take place on 2019-11-27.\n"
     ]
    },
    {
     "name": "stderr",
     "output_type": "stream",
     "text": [
      "/opt/conda/lib/python3.6/site-packages/ipykernel_launcher.py:1: SettingWithCopyWarning: \n",
      "A value is trying to be set on a copy of a slice from a DataFrame.\n",
      "Try using .loc[row_indexer,col_indexer] = value instead\n",
      "\n",
      "See the caveats in the documentation: http://pandas.pydata.org/pandas-docs/stable/indexing.html#indexing-view-versus-copy\n",
      "  \"\"\"Entry point for launching an IPython kernel.\n"
     ]
    }
   ],
   "source": [
    "data['dayOfInvitationShifted'] = data['dayOfInvitation'].shift(-1)\n",
    "meanInterval=(data['dayOfInvitationShifted']-data['dayOfInvitation']).mean()\n",
    "\n",
    "#Adding this to the last invitation date\n",
    "nextinvitation = list(data['dayOfInvitation'])[-1]+meanInterval\n",
    "\n",
    "#weekday = 0 is monday - 6 is sunday\n",
    "dayofweek = nextinvitation.weekday()\n",
    "\n",
    "#Let's take the closest wednesday (weekday=2)\n",
    "nextinvitationday = nextinvitation.day + 2 - dayofweek\n",
    "\n",
    "#Convert back to date\n",
    "nextinvitation = datetime.date(nextinvitation.year, nextinvitation.month, nextinvitationday)\n",
    "\n",
    "print('The next invitation will probably take place on {}.'.format(nextinvitation))"
   ]
  },
  {
   "cell_type": "markdown",
   "metadata": {
    "_uuid": "d8841421b31e61e059c1d35caae99290172a5995"
   },
   "source": [
    "# How many candidates will be invited\n",
    "For this one we will only check the tendency of the last invitations."
   ]
  },
  {
   "cell_type": "code",
   "execution_count": 10,
   "metadata": {
    "_uuid": "6c52103469ecb90948ff4f4ecc7a2b0ea26120de"
   },
   "outputs": [
    {
     "data": {
      "text/plain": [
       "Text(0,0.5,'Number of People Invited')"
      ]
     },
     "execution_count": 10,
     "metadata": {},
     "output_type": "execute_result"
    },
    {
     "data": {
      "image/png": "[encoded data removed]",
      "text/plain": [
       "<matplotlib.figure.Figure at 0x7f8c77494400>"
      ]
     },
     "metadata": {},
     "output_type": "display_data"
    }
   ],
   "source": [
    "fig=plt.figure(figsize=(12, 8), dpi= 80)\n",
    "plt.plot(data['dayOfInvitation'], data['numberOfInvited'] )\n",
    "plt.xlabel('Date')\n",
    "plt.ylabel('Number of People Invited')"
   ]
  },
  {
   "cell_type": "markdown",
   "metadata": {
    "_uuid": "e38ac0697fab0b624e22a9efe774b6f281974c49"
   },
   "source": [
    "It looks like the number of invitations per round seems to be floating around 3600."
   ]
  },
  {
   "cell_type": "code",
   "execution_count": 11,
   "metadata": {
    "_uuid": "5441d848e3381dd75b6c5875f5be590881b2a57f"
   },
   "outputs": [
    {
     "data": {
      "text/plain": [
       "Text(0,0.5,'Rounds')"
      ]
     },
     "execution_count": 11,
     "metadata": {},
     "output_type": "execute_result"
    },
    {
     "data": {
      "image/png": "[encoded data removed]",
      "text/plain": [
       "<matplotlib.figure.Figure at 0x7f8c7ea606a0>"
      ]
     },
     "metadata": {},
     "output_type": "display_data"
    }
   ],
   "source": [
    "fig=plt.figure(figsize=(12, 8), dpi= 80)\n",
    "ax = data.groupby(by='numberOfInvited')['numberOfInvited'].count().plot(kind='bar')\n",
    "ax.set_xlabel(\"Number of People Invited\")\n",
    "ax.set_ylabel(\"Rounds\")"
   ]
  },
  {
   "cell_type": "markdown",
   "metadata": {
    "_uuid": "b0407b0563ea33813b52e9dca578b5af982838f5"
   },
   "source": [
    "It seems that CIC is adjusting the number of invitations per round. Maybe this is intended to keep the minimum score at a specific level. Not too high, not too low. Therefore, it is possible that they will invite 3600 people for the next round."
   ]
  },
  {
   "cell_type": "markdown",
   "metadata": {
    "_uuid": "4c2ef3a87f46656c0a9f4e0968d2ceba228b95db"
   },
   "source": [
    "# Conclusion\n",
    "With a score of 465, the chance of being invited is around 53%.\n",
    "\n",
    "The next invitation will probably take place on November 27th.\n",
    "\n",
    "They will probably invite 3600 people."
   ]
  },
  {
   "cell_type": "code",
   "execution_count": 12,
   "metadata": {
    "_uuid": "7c19d266090f17521635e62c4a710c3b89e5ee4e",
    "collapsed": true,
    "jupyter": {
     "outputs_hidden": true
    }
   },
   "outputs": [],
   "source": []
  }
 ],
 "metadata": {
  "kernelspec": {
   "display_name": "Python 3 (ipykernel)",
   "language": "python",
   "name": "python3"
  },
  "language_info": {
   "codemirror_mode": {
    "name": "ipython",
    "version": 3
   },
   "file_extension": ".py",
   "mimetype": "text/x-python",
   "name": "python",
   "nbconvert_exporter": "python",
   "pygments_lexer": "ipython3",
   "version": "3.12.0"
  }
 },
 "nbformat": 4,
 "nbformat_minor": 4
}
